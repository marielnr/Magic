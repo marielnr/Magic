{
 "cells": [
  {
   "cell_type": "markdown",
   "metadata": {
    "id": "q9xqha1DyKD0"
   },
   "source": [
    "# Ejercicio 1\n",
    "\n",
    "El dueño de un helipuerto ha diseñado un sistema para distribuir las llegadas de los helicópteros entre las diferentes zonas del lugar.\n",
    "\n",
    "Hay cuatro helicópteros 1, 2, 3 y 4 y dos posibles sentidos, ”E” (este) y ”O” (oeste).\n",
    "\n",
    "Las reglas de distribución son las siguientes:\n",
    "\n",
    "- Al helicóptero 1 con sentido \"este\" le corresponde la zona 8 y sentido \"oeste\" la zona 7.\n",
    "- Al helicóptero 2 corresponden la zona 10 (este) y 9 (oeste).\n",
    "- Al helicóptero 3 son 12 y 13 (este y oeste respectivamente).\n",
    "- Al helicóptero 4 le corresponden la zona 14 (este) y 15 (oeste).\n",
    "\n",
    "Diseñad la función *zona(helicopteros,sentido)* que reciba como parámetros un valor entero positivo que representa el helicóptero y un carácter que indique el sentido(”E” para este y ”O” para oeste).\n",
    "\n",
    "El resultado deberá ser el número de la zona correspondiente. En caso de\n",
    "que el helicóptero o el sentido no sean válidos, ha de devolver un 0.\n",
    "\n",
    "Como segunda parte de este ejercicio, **utilizando programación funcional**,\n",
    "realiza lo siguiente:\n",
    "\n",
    "- Muestra el resultado de las siguientes combinaciones\n",
    "- Mostrar la/s tupla/s que se pueden realizar.\n",
    "\n",
    "<pre>\n",
    "[ [3,\"O\"],[7,\"O\"],[2,\"E\"] ]\n",
    "</pre>\n",
    "<span style=\"font-family: Courier New; background-color: #82b74b; color: #000000; padding: 3px; \">SM</span> **(1.0 punto)**"
   ]
  },
  {
   "cell_type": "code",
   "execution_count": 19,
   "metadata": {
    "colab": {
     "base_uri": "https://localhost:8080/"
    },
    "executionInfo": {
     "elapsed": 50,
     "status": "ok",
     "timestamp": 1744723161531,
     "user": {
      "displayName": "Mariel Nava Rodríguez",
      "userId": "14397699019264857880"
     },
     "user_tz": -120
    },
    "id": "Vu1VKXhCBq0y",
    "outputId": "2808b6a7-eb37-4b6f-cb28-35c4bed8e0cd"
   },
   "outputs": [
    {
     "name": "stdout",
     "output_type": "stream",
     "text": [
      "Resultados de las combinaciones: [13, 0, 10]\n",
      "Tuplas realizadas: [(3, 'O'), (7, 'O'), (2, 'E')]\n"
     ]
    }
   ],
   "source": [
    "def zona(helicopteros, sentido):\n",
    "    resultado=0\n",
    "    if helicopteros==1:\n",
    "        if sentido=='E':\n",
    "            resultado=8\n",
    "        elif sentido=='O':\n",
    "            resultado=7\n",
    "    elif helicopteros==2:\n",
    "        if sentido=='E':\n",
    "            resultado=10\n",
    "        elif sentido=='O':\n",
    "            resultado=9\n",
    "    elif helicopteros==3:\n",
    "        if sentido=='E':\n",
    "            resultado=12\n",
    "        elif sentido=='O':\n",
    "            resultado=13\n",
    "    elif helicopteros==4:\n",
    "        if sentido=='E':\n",
    "            resultado=14\n",
    "        elif sentido=='O':\n",
    "            resultado=15\n",
    "    else:\n",
    "        resultado=0\n",
    "    return resultado\n",
    "def aplicar_zona(par):\n",
    "    return zona(par[0], par[1])\n",
    "\n",
    "a_list_ejercicio1=[ [3,\"O\"],[7,\"O\"],[2,\"E\"] ]\n",
    "# Usamos map para aplicar la función a cada sublista\n",
    "#map(funcion, iterable)\n",
    "#map toma una función y una iterable y aplica la función a cada elemento del iterable\n",
    "resultados = list(map(aplicar_zona, a_list_ejercicio1))\n",
    "# Mostramos los resultados\n",
    "print(\"Resultados de las combinaciones:\", resultados)\n",
    "# Mostrar las tuplas\n",
    "#la funcióntuple convierte un objeto iterable, en este caso la lista, en una tupla\n",
    "tuplas = [tuple(par) for par in a_list_ejercicio1]\n",
    "print(\"Tuplas realizadas:\", tuplas)"
   ]
  },
  {
   "cell_type": "markdown",
   "metadata": {
    "id": "dGBMjM2qGzzz"
   },
   "source": [
    "# Ejercicio 2\n",
    "\n",
    "Un inversor ha realizado diferentes transacciones en una cartera de inversión y ha obtenido bastante beneficio a lo largo de un año. Ahora, le gustaría cambiar todo el beneficio que ha obtenido en AED (Dírham de los Emiratos Árabes Unidos) a otra moneda.\n",
    "\n",
    "Para ello, ha decidido realizar un cambio de divisa y las divisas que ha seleccionado son las siguientes:\n",
    "\n",
    "- Euro: 1 AED -> 0,26233 EURO\n",
    "- Dólar: 1 AED ->  0,27227 USD\n",
    "- Yen: 1 AED -> 41,0084 YEN\n",
    "- Soles: 1 AED -> 1,01084 SOL\n",
    "\n",
    "Los datos de las transacciones se encuentran en el Excel inversion.xlsx.\n",
    "\n",
    "Para poder realizar el ejericio cargue el fichero inversion.xlsx en un dataframe.\n",
    "\n",
    "- 2.1: (0,5 puntos) Se pide crear una función \"`convertir_divisas`\" que cree una nueva columna por cada divisa en el dataframe en donde se haga la conversión de su moneda (AED) a las divisas escogidas.\n",
    "  \n",
    "- 2.2 (0,5 puntos) Se pide crear una función que se llame: \"`total_divisas`\" y que tome como entrada el archivo Excel y que devuelva el nombre de las divisas y el monto total generado durante el año por cada una de ellas.\n",
    "\n",
    "- 2.3 (0,5 puntos) Ahora, a este inversor le gustaría saber si con sus ganancias obtenidas durante un año podría irse a vivir a uno de los países de las divisas escogidas. Para saberlo, se pide crear la función \"`pais_mas_accesible`\" que tendrá como entrada el resultado del apartado anterior. Por otro lado, el resultado de esta función será el país donde podría ir a vivir. El país escogido será el que tenga mayor excedente.\n",
    "\n",
    "Tiene que tomar en cuenta el costo de vida y ver cuál sería la mejor opción para ella.\n",
    "\n",
    "Se puede tomar como referencia los siguientes costos de vida (mensual):\n",
    "\n",
    " - España (euro): 1.200 euros\n",
    " - EE.UU. (dólar): 5.857 dólares\n",
    " - Japón (yen): 425.710 yenes\n",
    " - Perú (sol): 3.927 soles\n",
    "\n",
    "**Nota:**\n",
    "\n",
    "Para realizar el tercer apartado pueden dividir de forma proporcional el monto total calculado en el apartado 2 y de esta forma ver mensualmente si es factible el vivir en ese país.\n",
    "\n",
    "Recuerda mostrar los resultados por pantalla en cada subapartado\n",
    "\n",
    "<span style=\"font-family: Courier New; background-color: #82b74b; color: #000000; padding: 3px; \">SM</span> **(1.5 puntos)**"
   ]
  },
  {
   "cell_type": "code",
   "execution_count": 20,
   "metadata": {
    "colab": {
     "base_uri": "https://localhost:8080/",
     "height": 452
    },
    "executionInfo": {
     "elapsed": 40,
     "status": "ok",
     "timestamp": 1744723161576,
     "user": {
      "displayName": "Mariel Nava Rodríguez",
      "userId": "14397699019264857880"
     },
     "user_tz": -120
    },
    "id": "l16KkW8GJ0KT",
    "outputId": "ceb31b4c-de0c-4b86-e87e-932c190f897e"
   },
   "outputs": [
    {
     "name": "stdout",
     "output_type": "stream",
     "text": [
      "DataFrame con las conversiones a cada divisa:\n",
      "         Fecha  Divisa       Euro      Dólar         Yen      Soles\n",
      "0   2024-01-01     509  133.52597  138.58543  20873.2756  514.51756\n",
      "1   2024-01-05     103   27.01999   28.04381   4223.8652  104.11652\n",
      "2   2024-01-06     110   28.85630   29.94970   4510.9240  111.19240\n",
      "3   2024-01-07     338   88.66754   92.02726  13860.8392  341.66392\n",
      "4   2024-01-08     525  137.72325  142.94175  21529.4100  530.69100\n",
      "..         ...     ...        ...        ...         ...        ...\n",
      "395 2024-12-22      83   21.77339   22.59841   3403.6972   83.89972\n",
      "396 2024-12-23     835  219.04555  227.34545  34242.0140  844.05140\n",
      "397 2024-12-25     727  190.71391  197.94029  29813.1068  734.88068\n",
      "398 2024-12-28     771  202.25643  209.92017  31617.4764  779.35764\n",
      "399 2024-12-28     839  220.09487  228.43453  34406.0476  848.09476\n",
      "\n",
      "[400 rows x 6 columns]\n",
      "La suma total de euros fue de: 51969.40931\n",
      "La suma total de dólares fue de: 53938.59289\n",
      "La suma total de yenes fue de: 8124051.0988\n",
      "La suma total de soles fue de: 200254.47988\n",
      "Excedente España: 3130.784109166667\n",
      "Excedente EE.UU.: -1362.1172591666664\n",
      "Excedente Japón: 251294.25823333336\n",
      "Excedente Perú: 12760.873323333333\n",
      "El país donde es más rentable vivir es en: Japón\n"
     ]
    },
    {
     "data": {
      "application/vnd.google.colaboratory.intrinsic+json": {
       "type": "string"
      },
      "text/plain": [
       "'Japón'"
      ]
     },
     "execution_count": 20,
     "metadata": {},
     "output_type": "execute_result"
    }
   ],
   "source": [
    "import pandas as pd\n",
    "inversion_tabla_ejercicio2=pd.read_excel('data/inversion.xlsx')\n",
    "cambiodiv_ejercicio2={'Euro':0.26233, 'Dólar':0.27227, 'Yen':41.0084, 'Soles':1.01084}\n",
    "costo_de_vida_ejercicio2={'España':1200, 'EE.UU.': 5857, 'Japón': 425710, 'Perú': 3927}\n",
    "def convertir_divisas(df, cambiodiv):\n",
    "    for divisa,tasa in cambiodiv.items():\n",
    "        df[divisa]=df['Divisa']*tasa\n",
    "\n",
    "    print(\"DataFrame con las conversiones a cada divisa:\")\n",
    "    print(df)\n",
    "    return df\n",
    "#mostrar resultado\n",
    "convertir_divisas(inversion_tabla_ejercicio2,cambiodiv_ejercicio2)\n",
    "#2.2\n",
    "def total_divisas(df):\n",
    "    suma_euro=inversion_tabla_ejercicio2['Euro'].sum()\n",
    "    print(f'La suma total de euros fue de: {suma_euro}')\n",
    "    suma_dolar = inversion_tabla_ejercicio2['Dólar'].sum()\n",
    "    print(f'La suma total de dólares fue de: {suma_dolar}')\n",
    "    suma_yen = inversion_tabla_ejercicio2['Yen'].sum()\n",
    "    print(f'La suma total de yenes fue de: {suma_yen}')\n",
    "    suma_soles=inversion_tabla_ejercicio2['Soles'].sum()\n",
    "    print(f'La suma total de soles fue de: {suma_soles}')\n",
    "    return suma_euro, suma_dolar, suma_yen, suma_soles\n",
    "sumas_ejercicio2=total_divisas(inversion_tabla_ejercicio2)\n",
    "#2.3\n",
    "suma_euro_mensual=sumas_ejercicio2[0]/12\n",
    "suma_dolar_mensual=sumas_ejercicio2[1]/12\n",
    "suma_yen_mensual=sumas_ejercicio2[2]/12\n",
    "suma_sol_mensual=sumas_ejercicio2[3]/12\n",
    "\n",
    "def pais_mas_accesible(e,d,y,s,costo_vida):\n",
    "    costos={}\n",
    "    costo_españa=e-costo_vida['España']\n",
    "    costos['España']=costo_españa\n",
    "    print('Excedente España:', costo_españa)\n",
    "\n",
    "    costo_usa=d-costo_vida['EE.UU.']\n",
    "    costos['EE.UU.']=costo_usa\n",
    "    print('Excedente EE.UU.:', costo_usa)\n",
    "\n",
    "    costo_jap=y-costo_vida['Japón']\n",
    "    costos['Japón']=costo_jap\n",
    "    print('Excedente Japón:', costo_jap)\n",
    "\n",
    "    costo_peru=s-costo_vida['Perú']\n",
    "    costos['Perú']=costo_peru\n",
    "    print(\"Excedente Perú:\", costo_peru)\n",
    "\n",
    "    #diccionario.get('b') devuelve el valor asociado a la clave 'b'\n",
    "    #key=costos.get: Le dice a max() que, para cada clave del diccionario, use el valor asociado (el excedente) como criterio de comparación.\n",
    "    #max() devuelve la clave cuyo valor asociado es el mayor.\n",
    "    valor_max=max(costos, key=costos.get)\n",
    "    print(f'El país donde es más rentable vivir es en: {valor_max}')\n",
    "    return valor_max\n",
    "pais_mas_accesible(suma_euro_mensual, suma_dolar_mensual, suma_yen_mensual, suma_sol_mensual, costo_de_vida_ejercicio2)\n"
   ]
  },
  {
   "cell_type": "markdown",
   "metadata": {
    "id": "5Ki_3ilasE0G"
   },
   "source": [
    "# Ejercicio 3\n",
    "\n",
    "Se desea saber si tenemos las piezas necesarias para armar una escultura.\n",
    "\n",
    "Para ello, se tienen los siguientes diccionarios:\n",
    "\n",
    "- piezas: diccionario que indica las piezas que se tienen para construir la escultura\n",
    "- caja: diccionario que indica las piezas que hacen falta para construir la escultura\n",
    "\n",
    "Para saber si tenemos las piezas necesarias, se pide crear una función `contar_piezas(piezas,caja)` en la que se indican los diccionarios y el resultado deberá ser un diccionario con las piezas que faltan para realizar la escultura.\n",
    "\n",
    "<pre>\n",
    "piezas = {'rojo':10, ’azul’:15, 'amarillo':25, ’verde’: 10, ’negro’:10}\n",
    "</pre>\n",
    "\n",
    "<pre>\n",
    "caja = {’gris’: 19, 'rojo':10, ’azul’:30, ’amarillo’:25, ’naranja’: 13}\n",
    "</pre>\n",
    "\n",
    "<pre>\n",
    "contar_piezas(piezas,caja)\n",
    "{’azul’:15, ’gris’: 19, ’naranja’: 13}\n",
    "</pre>\n",
    "\n",
    "\n",
    "<span style=\"font-family: Courier New; background-color: #82b74b; color: #000000; padding: 3px; \">SM</span> **(1.5 puntos)**"
   ]
  },
  {
   "cell_type": "code",
   "execution_count": 21,
   "metadata": {
    "colab": {
     "base_uri": "https://localhost:8080/"
    },
    "executionInfo": {
     "elapsed": 11,
     "status": "ok",
     "timestamp": 1744723161588,
     "user": {
      "displayName": "Mariel Nava Rodríguez",
      "userId": "14397699019264857880"
     },
     "user_tz": -120
    },
    "id": "A2yJiuuRwQjE",
    "outputId": "eafb4f3b-7d64-4d20-f258-ec621cb97625"
   },
   "outputs": [
    {
     "name": "stdout",
     "output_type": "stream",
     "text": [
      "Piezas que faltan para finalizar la escultura: {'gris': 19, 'azul': 15, 'naranja': 13}\n"
     ]
    }
   ],
   "source": [
    "#piezas que tienes:\n",
    "piezas = {'rojo':10, 'azul':15, 'amarillo':25, 'verde': 10, 'negro':10}\n",
    "#piezas que necesitas\n",
    "caja = {'gris': 19, 'rojo':10, 'azul':30, 'amarillo':25, 'naranja': 13}\n",
    "\n",
    "def contar_piezas(piezas,caja):\n",
    "    piezas_restantes={}\n",
    "    for k, v in caja.items():\n",
    "        #Usar get() para manejar colores que no están en piezas, poniendo 0 si no existen\n",
    "        #Si el color k no está en piezas, get() devuelve 0\n",
    "        piezas_tienes = piezas.get(k, 0)\n",
    "        piezas_rest=piezas_tienes-v\n",
    "        if piezas_rest<0:\n",
    "            piezas_restantes[k]=abs(piezas_rest)\n",
    "\n",
    "    return piezas_restantes\n",
    "print(f'Piezas que faltan para finalizar la escultura: {contar_piezas(piezas,caja)}')\n"
   ]
  },
  {
   "cell_type": "markdown",
   "metadata": {
    "id": "eKkzKybPgApf"
   },
   "source": [
    "# Ejercicio 4\n",
    "\n",
    "Se pide realizar una función que calcule el IMC (Índice de Masa Corporal) de un número determinado de personas. Para esto, se tiene el Excel llamado IMC.xslx.\n",
    "\n",
    "En este Excel se tiene la siguiente información:\n",
    "\n",
    "- ID: identificador de las personas\n",
    "- Nombre: nombre de las personas\n",
    "- Edad: edad de las personas\n",
    "- Altura: altura de las personas (cm)\n",
    "- Peso: peso de las personas (kg)\n",
    "\n",
    "La función que se solicita se va a llamar `imc`, recibirá como entrada:\n",
    "\n",
    "- El archivo de datos en formato *.xlsx*.\n",
    "\n",
    "- Un número comprendido entre 1 y 200.\n",
    "\n",
    "El número comprendido entre 1 y 200 es el número que se va a utilizar para generar los números aleatorios. Estos números aleatorios también deberán estar comprendidos entre 1 y 200,\n",
    "ya que 200 es la cantidad de datos que tenemos en el excel\n",
    "\n",
    "Los números aleatorios generados corresponderán al ID de las personas, y serán los que se van a seleccionar.\n",
    "\n",
    "Por último, la salida será un diccionario en donde las claves serán los nombres de las personas y su valor corresponderá al IMC calculado.\n",
    "\n",
    "\n",
    "Ejemplo:\n",
    "<pre>\n",
    "imc(IMC.xslx , 2 )\n",
    "# esta función va a generar 2 números aleatorios,\n",
    "# en este ejemplo los 2 números aleatorios generados son: 10 y 40\n",
    "# Si vemos el ID 10 y 40, vemos que se corresponde con las personas \"Amparo\" y \"Esteban\"\n",
    "\n",
    "# La salida final será la siguiente:\n",
    "\n",
    "{’Amparo’: 19.96, ’Esteban’: 39.88}\n",
    "</pre>\n",
    "\n",
    "**Nota:**\n",
    "\n",
    "La fórmula del IMC es el peso (en kg) divido por la altura (en metros) al cuadrado.\n",
    "\n",
    "<span style=\"font-family: Courier New; background-color: #ffcc5c; color: #000000; padding: 3px; \">EG</span> **(2.0 puntos)**"
   ]
  },
  {
   "cell_type": "code",
   "execution_count": 22,
   "metadata": {
    "colab": {
     "base_uri": "https://localhost:8080/"
    },
    "executionInfo": {
     "elapsed": 27,
     "status": "ok",
     "timestamp": 1744723161616,
     "user": {
      "displayName": "Mariel Nava Rodríguez",
      "userId": "14397699019264857880"
     },
     "user_tz": -120
    },
    "id": "tsTmLmtBX2HX",
    "outputId": "231d5e6a-1a45-4ac4-a804-c04864ba02a0"
   },
   "outputs": [
    {
     "name": "stdout",
     "output_type": "stream",
     "text": [
      "{1: 175}\n",
      "{1: 175, 2: 168}\n",
      "{'Benita': 21.23, 'Tomás': 18.31}\n"
     ]
    }
   ],
   "source": [
    "import random as rm\n",
    "cant_num=2\n",
    "imc_excel_ejercicio4=pd.read_excel('data/IMC.xlsx')\n",
    "#imc=peso/altura\n",
    "\n",
    "def imc(tabla, cant):\n",
    "    persona={}\n",
    "    num={}\n",
    "    imc_resultados={}\n",
    "    for i in range (1, cant+1):\n",
    "        num[i]=rm.randrange(1,200)\n",
    "        print (num)\n",
    "\n",
    "    for id in num:\n",
    "        # Comprobar si el id existe\n",
    "        #loc es un método de pd, usa etiquetas o condiciones booleanas(seleccionando las filas donde la condicion es true)\n",
    "        #df.loc[filas,columnas]\n",
    "        fila = tabla.loc[tabla['ID'] == num[id]]\n",
    "\n",
    "        # revisar si se encontró la fila\n",
    "        if not fila.empty:\n",
    "            # Obtener los datos necesarios\n",
    "            #es .iloc[0] porque solo existe esa fila\n",
    "            nombre = fila['Nombre'].iloc[0]\n",
    "            peso = fila['Peso'].iloc[0]  # en kg\n",
    "            altura_cm = fila['Altura'].iloc[0]  # en cm\n",
    "            altura_m = altura_cm / 100\n",
    "            # Calculo del IMC\n",
    "            imc_valor = peso/(altura_m**2)\n",
    "\n",
    "            # Redondear el IMC a 2 decimales\n",
    "            imc_valor = round(imc_valor, 2)\n",
    "\n",
    "            # Guardar en el diccionario con el nombre como clave\n",
    "            #lo pasamos a float para que el numero salga bien\n",
    "            imc_resultados[nombre] = float(imc_valor)\n",
    "        else:\n",
    "            print(f\"No se encontró una persona con ID {id}\")\n",
    "\n",
    "    return imc_resultados\n",
    "\n",
    "resultado = imc(imc_excel_ejercicio4, cant_num)\n",
    "print(resultado)"
   ]
  },
  {
   "cell_type": "markdown",
   "metadata": {
    "id": "kg6v4wuiBtIv"
   },
   "source": [
    "# Ejercicio 5\n",
    "\n",
    "Para este ejercicio, se desea saber cuáles son las palabras que se repiten más de una vez en un texto, por lo que se deberá crear una función que lea un texto y calcule cuántas veces se repiten todas las palabras y muestre las palabras que se repiten más de una vez. El archivo a utilizar es: Elladron.docx.\n",
    "\n",
    "Se pide crear la función `lectura` que recibirá la ruta donde se encuentra el archivo y deberá realizar lo siguiente:\n",
    "\n",
    "1.  Lectura del archivo\n",
    "2. Conteo de todas las palabras del archivo\n",
    "3. Filtrar las palabras que se repitan más de una vez.\n",
    "\n",
    "El resultado de esta función serán las palabras (que se repiten más de una vez) con las veces que se repite.\n",
    "\n",
    "**Notas importantes:**\n",
    "\n",
    "1) Las palabras se cuentan por sí solas, es decir, si una palabra forma parte de otra no cuenta.\n",
    "\n",
    "2) Si una palabra tiene alguna letra mayúscula y otra no, pero es la misma palabra, se cuentan como iguales, por lo tanto, suma al contador de la palabra.\n",
    "\n",
    "Ejemplo:\n",
    "\n",
    "<pre>\n",
    "Frase: La comida de la selva es mejor que la lasaña.\n",
    "\n",
    "Conteo de palabras:\n",
    "\n",
    "la: 3\n",
    "comida: 1\n",
    "de: 1\n",
    "selva: 1\n",
    "es: 1\n",
    "mejor: 1\n",
    "que: 1\n",
    "lasaña: 1\n",
    "\n",
    "Resultado de la función:\n",
    "\n",
    "la: 3\n",
    "</pre>\n",
    "\n",
    "**Nota:**\n",
    "\n",
    "Al tratarse de un archivo .docx ha de utilizar la librería adecuada para su lectura.\n",
    "\n",
    "<span style=\"font-family: Courier New; background-color: #ffcc5c; color: #000000; padding: 3px; \">EG</span> **(3.0 puntos)**"
   ]
  },
  {
   "cell_type": "code",
   "execution_count": 23,
   "metadata": {
    "colab": {
     "base_uri": "https://localhost:8080/"
    },
    "executionInfo": {
     "elapsed": 2712,
     "status": "ok",
     "timestamp": 1744723164329,
     "user": {
      "displayName": "Mariel Nava Rodríguez",
      "userId": "14397699019264857880"
     },
     "user_tz": -120
    },
    "id": "hQ9qZdc7lzac",
    "outputId": "9d025cf6-2c90-45a4-8e82-86ec5f9a2db6"
   },
   "outputs": [
    {
     "name": "stdout",
     "output_type": "stream",
     "text": [
      "Requirement already satisfied: python-docx in /usr/local/lib/python3.11/dist-packages (1.1.2)\n",
      "Requirement already satisfied: lxml>=3.1.0 in /usr/local/lib/python3.11/dist-packages (from python-docx) (5.3.2)\n",
      "Requirement already satisfied: typing-extensions>=4.9.0 in /usr/local/lib/python3.11/dist-packages (from python-docx) (4.13.1)\n"
     ]
    }
   ],
   "source": [
    "!pip install python-docx"
   ]
  },
  {
   "cell_type": "code",
   "execution_count": 24,
   "metadata": {
    "colab": {
     "base_uri": "https://localhost:8080/"
    },
    "executionInfo": {
     "elapsed": 22,
     "status": "ok",
     "timestamp": 1744723164355,
     "user": {
      "displayName": "Mariel Nava Rodríguez",
      "userId": "14397699019264857880"
     },
     "user_tz": -120
    },
    "id": "11pvNMINYIK_",
    "outputId": "d79b67f8-7f94-42ee-d7ac-9dfb9b491ffe"
   },
   "outputs": [
    {
     "name": "stdout",
     "output_type": "stream",
     "text": [
      "{'con': 13, 'su': 27, 'primer': 2, 'robo': 2, 'en': 30, 'una': 13, 'que': 62, 'había': 19, 'de': 73, 'camino': 2, 'al': 22, 'fue': 3, 'un': 18, 'acto': 3, 'sin': 9, 'el': 28, 'bolsa': 2, 'aunque': 3, 'nada': 4, 'más': 7, 'salir': 3, 'a': 22, 'la': 56, 'se': 15, 'después': 7, 'mientras': 5, 'no': 17, 'le': 16, 'pareció': 2, 'hecho': 2, 'tan': 3, 'y': 36, 'esa': 3, 'mañana': 2, 'entrar': 3, 'casa': 6, 'para': 8, 'ser': 4, 'recordó': 2, 'ese': 2, 'como': 7, 'si': 5, 'estaba': 13, 'por': 12, 'delante': 3, 'hasta': 3, 'quedar': 2, 'estado': 3, 'poder': 3, 'apartar': 2, 'lo': 14, 'acababa': 2, 'sensación': 4, 'siempre': 2, 'lugar': 3, 'todo': 7, 'él': 5, 'empezó': 2, 'desayuno': 2, 'aquella': 2, 'cuerpo': 5, 'sobre': 8, 'sus': 13, 'sangre': 6, 'junto': 3, 'fuerte': 4, 'tuvo': 2, 'hizo': 4, 'elegante': 2, 'aquel': 2, 'cadáver': 6, 'boca': 2, 'parte': 3, 'del': 13, 'cortina': 2, 'dejaba': 2, 'dudas': 2, 'entonces': 3, 'apareció': 3, 'pensó': 5, 'podía': 5, 'irse': 2, 'dejar': 2, 'las': 8, 'cosas': 2, 'encima': 3, 'además': 2, 'huellas': 2, 'ella': 2, 'llevaba': 4, 'guantes': 4, 'observar': 2, 'ver': 6, 'mesa': 3, 'cristal': 4, 'esquina': 3, 'incrustada': 2, 'cabeza': 3, 'trataba': 2, 'accidente': 2, 'muerto': 3, 'debía': 2, 'dueño': 2, 'poco': 2, 'escoger': 2, 'estar': 2, 'despacho': 2, 'encontraba': 2, 'otra': 2, 'seguramente': 2, 'resbalado': 2, 'pavimento': 2, 'pudo': 3, 'comprobar': 3, 'desafortunado': 2, 'agarrarse': 2, 'cortinas': 3, 'caer': 2, 'quedaban': 2, 'así': 3, 'los': 6, 'pero': 2, 'policía': 2, 'mismo': 4, 'hacer': 3, 'desaparecer': 3, 'unos': 3, 'encontró': 3, 'cuando': 2, 'repente': 2, 'justo': 2, 'interior': 4, 'propietario': 2, 'aquello': 2, 'manos': 4, 'ningún': 3, 'sacó': 2, 'ropa': 3, 'dormitorio': 3, 'posible': 2, 'nuevo': 2, 'cogió': 2, 'continuación': 3, 'bien': 2, 'detalle': 2, 'pudiera': 2, 'tenía': 2, 'ahora': 2, 'podría': 2, 'dos': 2, 'antes': 2, 'llevarse': 2, 'faltar': 2, 'cartera': 6, 'abultada': 2, 'primera': 2, 'frente': 2, 'e': 2, 'foto': 3, 'oscuridad': 2}\n"
     ]
    }
   ],
   "source": [
    "#es necesario hace un pip install python-docx\n",
    "from docx import Document\n",
    "import string\n",
    "#para contar la frecuencia que sale cada paalbra\n",
    "from collections import Counter\n",
    "texto='data/Elladron.docx'\n",
    "def lectura(texto):\n",
    "    texto_completo=[]\n",
    "    total_palabras={}\n",
    "    palabras_min=[]\n",
    "    palabras_sin_punt=[]\n",
    "    text=Document(texto)\n",
    "    result={}\n",
    "    for parrafo in text.paragraphs:\n",
    "        #parrafo.text extrae el texto del parrafo como una cadena (str)\n",
    "        #parrafo.text.strip() limpia espacios en blanco al inicio y al final del texto\n",
    "        #if puede ecaluar si una cadena esta vacia: False no vacia:TRue\n",
    "        if parrafo.text.strip():\n",
    "            texto_completo.append(parrafo.text)\n",
    "    #se necesita unir los parrafos en una cadena unica\n",
    "    texto_unido=' '.join(texto_completo)\n",
    "    #split() divide la cadena en una lista de palabras\n",
    "    palabras=texto_unido.split()\n",
    "\n",
    "    for i in palabras:\n",
    "        palabras_min.append(i.lower())\n",
    "    for i in palabras_min:\n",
    "        #palabra.strip(string.punctuation) elimina los signos de puntuación al inicio y al final de cada palabra\n",
    "        palabras_sin_punt.append(i.strip(string.punctuation))\n",
    "    total_palabras=Counter(palabras_sin_punt)\n",
    "    for i in total_palabras:\n",
    "        if total_palabras[i]>1:\n",
    "            result[i]=total_palabras[i]\n",
    "    print(result)\n",
    "lectura(texto)\n"
   ]
  }
 ],
 "metadata": {
  "colab": {
   "provenance": []
  },
  "kernelspec": {
   "display_name": "Python 3",
   "name": "python3"
  },
  "language_info": {
   "name": "python"
  }
 },
 "nbformat": 4,
 "nbformat_minor": 0
}
